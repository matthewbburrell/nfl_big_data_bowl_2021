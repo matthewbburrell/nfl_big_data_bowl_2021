{
 "cells": [
  {
   "cell_type": "markdown",
   "metadata": {},
   "source": [
    "# NFL Big Data Bowl 2021\n",
    "\n",
    "## Exploratory Data Analysis\n",
    "\n",
    "Author: Matthew B. Burrell"
   ]
  },
  {
   "cell_type": "markdown",
   "metadata": {},
   "source": [
    "# Table of Contents\n",
    "\n",
    "1. [Problem Statement](#Problem-Statement)\n",
    "2. [Player Data](#Player-data)\n",
    "    1. [Data Cleaning](#Data-Cleaning)\n",
    "    2. [Player Height](#Player-Height)\n",
    "    3. [Player Weight](#Player-Weight)\n",
    "    4. [Player's Postion](#Player's-Postion)\n",
    "    5. [Player's Age](#Player's-Age)\n",
    "    5. [Defensive Players](#Defenisive-players)\n",
    "        1. [Corner Backs](#Corner-backs)\n",
    "        2. [Outside Line Backer](#Outside-Line-Backer)\n",
    "        3. [Free Safety](#Free-Safety)\n",
    "        4. [Strong Safety](#Strong-Safety)\n",
    "        5. [Line Backer](#Line-Backer)\n",
    "        6. [Inside line backer](#Inside-line-backer)\n",
    "        7. [Defensive end](#Defensive-end)\n",
    "        8. [Defensive back](#Defensive-back)\n",
    "        9. [Middle Line Backer](#Middle-Line-Backer)\n",
    "        10. [Defenive tackle](#Defenive-tackle)\n",
    "        11. [Nose tackle](#Nose-tackle)\n",
    "    6.[Offensive Players](#Offensive-Players)\n",
    "        1. [Wide Recievers](#Wide-Recievers)\n",
    "        2. [Running backs](#Running-backs)\n",
    "        3. [Tight Ends](#Tight-End)\n",
    "        4. [Quarter Backs](#Quarter-Back)\n",
    "        5. [Full Backs](#Full-Back)\n",
    "        6. [Punters](#Punter)\n",
    "        7. [Kickers](#Kicker)\n",
    "        8. [Half Backs](#Half-Back)\n",
    "3. [Games Data](#Games-Data)\n",
    "    1. [Week 1](#Week-1)\n",
    "    2. [Week 2](#Week-2)\n",
    "    3. [Week 3](#Week-3)\n",
    "    4. [Week 4](#Week-4)\n",
    "    5. [Week 5](#Week-5)\n",
    "    6. [Week 6](#Week-6)\n",
    "    7. [Week 7](#Week-7)\n",
    "    8. [Week 8](#Week-8)\n",
    "    9. [Week 9](#Week-9)\n",
    "    10. [Week 10](#Week-10)\n",
    "    11. [Week 11](#Week-11)\n",
    "    12. [Week 12](#Week-12)\n",
    "    13. [Week 13](#Week-13)\n",
    "    14. [Week 14](#Week-14)\n",
    "    15. [Week 15](#Week-15)\n",
    "    16. [Week 16](#Week-16)\n",
    "    17. [Week 17](#Week-17)\n",
    "4. [Plays Data](#Plays-Data)\n",
    "5. [Tracking Data](#Tracking-Data)\n",
    "    1. [Week 1 Data](#Week-1-Data)\n",
    "    2. [Week 2 Data](#Week-2-Data)\n",
    "    3. [Week 3 Data](#Week-3-Data)\n",
    "    4. [Week 4 Data](#Week-4-Data)\n",
    "    5. [Week 5 Data](#Week-5-Data)\n",
    "    6. [Week 6 Data](#Week-6-Data)\n",
    "    7. [Week 7 Data](#Week-7-Data)\n",
    "    8. [Week 8 Data](#Week-8-Data)\n",
    "    9. [Week 9 Data](#Week-9-Data)\n",
    "    10. [Week 10 Data](#Week-10-Data)\n",
    "    11. [Week 11 Data](#Week-11-Data)\n",
    "    12. [Week 12 Data](#Week-12-Data)\n",
    "    13. [Week 13 Data](#Week-13-Data)\n",
    "    14. [Week 14 Data](#Week-14-Data)\n",
    "    15. [Week 15 Data](#Week-15-Data)\n",
    "    16. [Week 16 Data](#Week-16-Data)\n",
    "    17. [Week 17 Data](#Week-17-Data)"
   ]
  },
  {
   "cell_type": "markdown",
   "metadata": {},
   "source": [
    "# Problem Statement\n",
    "\n",
    "The Goal of the EDA notebook is to do clean and analyze the data form the 2018 NFL Season. The focus of the project is on trying to evalate defensive players when defending against a passing play. The data does not include any running plays. One question I would like to answer is how to better evaluate defensive backs. What factors into an defensive player successfully stopping a pass? This note book looks to help start answering that question as well as the first steps to creating a model to evaluted a player.   \n",
    "\n",
    "\n",
    "[Top Page](#Table-of-Contents)"
   ]
  },
  {
   "cell_type": "code",
   "execution_count": 17,
   "metadata": {},
   "outputs": [],
   "source": [
    "#Imports\n",
    "import pandas as pd\n",
    "import numpy as np\n",
    "import matplotlib.pyplot as plt\n",
    "import datetime"
   ]
  },
  {
   "cell_type": "markdown",
   "metadata": {},
   "source": [
    "# Player data\n",
    "\n",
    "[Top Page](#Table-of-Contents)"
   ]
  },
  {
   "cell_type": "code",
   "execution_count": 18,
   "metadata": {},
   "outputs": [],
   "source": [
    "df_player = pd.read_csv('../data/players.csv')"
   ]
  },
  {
   "cell_type": "code",
   "execution_count": 19,
   "metadata": {},
   "outputs": [
    {
     "data": {
      "text/plain": [
       "(1303, 7)"
      ]
     },
     "execution_count": 19,
     "metadata": {},
     "output_type": "execute_result"
    }
   ],
   "source": [
    "df_player.shape"
   ]
  },
  {
   "cell_type": "code",
   "execution_count": 20,
   "metadata": {},
   "outputs": [
    {
     "data": {
      "text/html": [
       "<div>\n",
       "<style scoped>\n",
       "    .dataframe tbody tr th:only-of-type {\n",
       "        vertical-align: middle;\n",
       "    }\n",
       "\n",
       "    .dataframe tbody tr th {\n",
       "        vertical-align: top;\n",
       "    }\n",
       "\n",
       "    .dataframe thead th {\n",
       "        text-align: right;\n",
       "    }\n",
       "</style>\n",
       "<table border=\"1\" class=\"dataframe\">\n",
       "  <thead>\n",
       "    <tr style=\"text-align: right;\">\n",
       "      <th></th>\n",
       "      <th>nflId</th>\n",
       "      <th>height</th>\n",
       "      <th>weight</th>\n",
       "      <th>birthDate</th>\n",
       "      <th>collegeName</th>\n",
       "      <th>position</th>\n",
       "      <th>displayName</th>\n",
       "    </tr>\n",
       "  </thead>\n",
       "  <tbody>\n",
       "    <tr>\n",
       "      <th>0</th>\n",
       "      <td>2539334</td>\n",
       "      <td>72</td>\n",
       "      <td>190</td>\n",
       "      <td>1990-09-10</td>\n",
       "      <td>Washington</td>\n",
       "      <td>CB</td>\n",
       "      <td>Desmond Trufant</td>\n",
       "    </tr>\n",
       "    <tr>\n",
       "      <th>1</th>\n",
       "      <td>2539653</td>\n",
       "      <td>70</td>\n",
       "      <td>186</td>\n",
       "      <td>1988-11-01</td>\n",
       "      <td>Southeastern Louisiana</td>\n",
       "      <td>CB</td>\n",
       "      <td>Robert Alford</td>\n",
       "    </tr>\n",
       "    <tr>\n",
       "      <th>2</th>\n",
       "      <td>2543850</td>\n",
       "      <td>69</td>\n",
       "      <td>186</td>\n",
       "      <td>1991-12-18</td>\n",
       "      <td>Purdue</td>\n",
       "      <td>SS</td>\n",
       "      <td>Ricardo Allen</td>\n",
       "    </tr>\n",
       "    <tr>\n",
       "      <th>3</th>\n",
       "      <td>2555162</td>\n",
       "      <td>73</td>\n",
       "      <td>227</td>\n",
       "      <td>1994-11-04</td>\n",
       "      <td>Louisiana State</td>\n",
       "      <td>MLB</td>\n",
       "      <td>Deion Jones</td>\n",
       "    </tr>\n",
       "    <tr>\n",
       "      <th>4</th>\n",
       "      <td>2555255</td>\n",
       "      <td>75</td>\n",
       "      <td>232</td>\n",
       "      <td>1993-07-01</td>\n",
       "      <td>Minnesota</td>\n",
       "      <td>OLB</td>\n",
       "      <td>De'Vondre Campbell</td>\n",
       "    </tr>\n",
       "  </tbody>\n",
       "</table>\n",
       "</div>"
      ],
      "text/plain": [
       "     nflId height  weight   birthDate             collegeName position  \\\n",
       "0  2539334     72     190  1990-09-10              Washington       CB   \n",
       "1  2539653     70     186  1988-11-01  Southeastern Louisiana       CB   \n",
       "2  2543850     69     186  1991-12-18                  Purdue       SS   \n",
       "3  2555162     73     227  1994-11-04         Louisiana State      MLB   \n",
       "4  2555255     75     232  1993-07-01               Minnesota      OLB   \n",
       "\n",
       "          displayName  \n",
       "0     Desmond Trufant  \n",
       "1       Robert Alford  \n",
       "2       Ricardo Allen  \n",
       "3         Deion Jones  \n",
       "4  De'Vondre Campbell  "
      ]
     },
     "execution_count": 20,
     "metadata": {},
     "output_type": "execute_result"
    }
   ],
   "source": [
    "df_player.head()"
   ]
  },
  {
   "cell_type": "code",
   "execution_count": 21,
   "metadata": {},
   "outputs": [
    {
     "data": {
      "text/html": [
       "<div>\n",
       "<style scoped>\n",
       "    .dataframe tbody tr th:only-of-type {\n",
       "        vertical-align: middle;\n",
       "    }\n",
       "\n",
       "    .dataframe tbody tr th {\n",
       "        vertical-align: top;\n",
       "    }\n",
       "\n",
       "    .dataframe thead th {\n",
       "        text-align: right;\n",
       "    }\n",
       "</style>\n",
       "<table border=\"1\" class=\"dataframe\">\n",
       "  <thead>\n",
       "    <tr style=\"text-align: right;\">\n",
       "      <th></th>\n",
       "      <th>nflId</th>\n",
       "      <th>height</th>\n",
       "      <th>weight</th>\n",
       "      <th>birthDate</th>\n",
       "      <th>collegeName</th>\n",
       "      <th>position</th>\n",
       "      <th>displayName</th>\n",
       "    </tr>\n",
       "  </thead>\n",
       "  <tbody>\n",
       "    <tr>\n",
       "      <th>1298</th>\n",
       "      <td>2553798</td>\n",
       "      <td>6-2</td>\n",
       "      <td>235</td>\n",
       "      <td>09/17/1991</td>\n",
       "      <td>Vanderbilt</td>\n",
       "      <td>LS</td>\n",
       "      <td>Andrew East</td>\n",
       "    </tr>\n",
       "    <tr>\n",
       "      <th>1299</th>\n",
       "      <td>2556814</td>\n",
       "      <td>6-2</td>\n",
       "      <td>200</td>\n",
       "      <td>05/17/1994</td>\n",
       "      <td>Duke</td>\n",
       "      <td>WR</td>\n",
       "      <td>Max McCaffrey</td>\n",
       "    </tr>\n",
       "    <tr>\n",
       "      <th>1300</th>\n",
       "      <td>2552576</td>\n",
       "      <td>78</td>\n",
       "      <td>231</td>\n",
       "      <td>1992-04-25</td>\n",
       "      <td>Oregon State</td>\n",
       "      <td>QB</td>\n",
       "      <td>Sean Mannion</td>\n",
       "    </tr>\n",
       "    <tr>\n",
       "      <th>1301</th>\n",
       "      <td>2561469</td>\n",
       "      <td>69</td>\n",
       "      <td>187</td>\n",
       "      <td>1993-03-15</td>\n",
       "      <td>Alabama-Birmingham</td>\n",
       "      <td>CB</td>\n",
       "      <td>Darious Williams</td>\n",
       "    </tr>\n",
       "    <tr>\n",
       "      <th>1302</th>\n",
       "      <td>2558095</td>\n",
       "      <td>6-2</td>\n",
       "      <td>196</td>\n",
       "      <td>10/12/1995</td>\n",
       "      <td>LSU</td>\n",
       "      <td>WR</td>\n",
       "      <td>Malachi Dupre</td>\n",
       "    </tr>\n",
       "  </tbody>\n",
       "</table>\n",
       "</div>"
      ],
      "text/plain": [
       "        nflId height  weight   birthDate         collegeName position  \\\n",
       "1298  2553798    6-2     235  09/17/1991          Vanderbilt       LS   \n",
       "1299  2556814    6-2     200  05/17/1994                Duke       WR   \n",
       "1300  2552576     78     231  1992-04-25        Oregon State       QB   \n",
       "1301  2561469     69     187  1993-03-15  Alabama-Birmingham       CB   \n",
       "1302  2558095    6-2     196  10/12/1995                 LSU       WR   \n",
       "\n",
       "           displayName  \n",
       "1298       Andrew East  \n",
       "1299     Max McCaffrey  \n",
       "1300      Sean Mannion  \n",
       "1301  Darious Williams  \n",
       "1302     Malachi Dupre  "
      ]
     },
     "execution_count": 21,
     "metadata": {},
     "output_type": "execute_result"
    }
   ],
   "source": [
    "df_player.tail()"
   ]
  },
  {
   "cell_type": "code",
   "execution_count": 22,
   "metadata": {},
   "outputs": [
    {
     "name": "stdout",
     "output_type": "stream",
     "text": [
      "<class 'pandas.core.frame.DataFrame'>\n",
      "RangeIndex: 1303 entries, 0 to 1302\n",
      "Data columns (total 7 columns):\n",
      " #   Column       Non-Null Count  Dtype \n",
      "---  ------       --------------  ----- \n",
      " 0   nflId        1303 non-null   int64 \n",
      " 1   height       1303 non-null   object\n",
      " 2   weight       1303 non-null   int64 \n",
      " 3   birthDate    1303 non-null   object\n",
      " 4   collegeName  1303 non-null   object\n",
      " 5   position     1303 non-null   object\n",
      " 6   displayName  1303 non-null   object\n",
      "dtypes: int64(2), object(5)\n",
      "memory usage: 71.4+ KB\n"
     ]
    }
   ],
   "source": [
    "df_player.info()"
   ]
  },
  {
   "cell_type": "markdown",
   "metadata": {},
   "source": [
    "## Data Cleaning\n",
    "\n",
    "### Wrong Data types\n",
    "\n",
    "The player data column of heoght looks to be formated differently throught out the column. I will need to change everything to a inches measurement.\n",
    "\n",
    "### Formatting birthdate\n",
    "\n",
    "Birth date enteries are not consistent throughout. I will be formating the birth dates as yyyy-mm-dd\n",
    "\n",
    "\n",
    "[Top Page](#Table-of-Contents)"
   ]
  },
  {
   "cell_type": "code",
   "execution_count": 23,
   "metadata": {},
   "outputs": [],
   "source": [
    "#clean height column for example '6-0' to 72 inches\n",
    "def clean_height(height_cell):\n",
    "    # Finds any cells that have '-'\n",
    "    if '-' in height_cell:\n",
    "        #converts date type to int and adds them to get total inches\n",
    "        return int(height_cell.split(\"-\")[0])*12 + int(height_cell.split(\"-\")[1])\n",
    "    else:\n",
    "        #converts cell to int if no '-'\n",
    "        return int(height_cell)\n",
    "        "
   ]
  },
  {
   "cell_type": "code",
   "execution_count": 24,
   "metadata": {},
   "outputs": [],
   "source": [
    "# Changing the format of birthdate\n",
    "df_player['birthDate'] = pd.to_datetime(df_player['birthDate'])"
   ]
  },
  {
   "cell_type": "code",
   "execution_count": 25,
   "metadata": {},
   "outputs": [],
   "source": [
    "#Creating the age column\n",
    "df_player['age'] = (pd.Timestamp('2018-09-06') - df_player['birthDate']).astype('<m8[Y]')"
   ]
  },
  {
   "cell_type": "markdown",
   "metadata": {},
   "source": [
    "# Player Height \n",
    "\n",
    "[Top Page](#Table-of-Contents)"
   ]
  },
  {
   "cell_type": "code",
   "execution_count": 26,
   "metadata": {},
   "outputs": [],
   "source": [
    "df_player['height'] = df_player['height'].map(clean_height)"
   ]
  },
  {
   "cell_type": "code",
   "execution_count": 27,
   "metadata": {},
   "outputs": [
    {
     "data": {
      "text/plain": [
       "count    1303.000000\n",
       "mean       73.220261\n",
       "std         2.461030\n",
       "min        66.000000\n",
       "25%        71.000000\n",
       "50%        73.000000\n",
       "75%        75.000000\n",
       "max        80.000000\n",
       "Name: height, dtype: float64"
      ]
     },
     "execution_count": 27,
     "metadata": {},
     "output_type": "execute_result"
    }
   ],
   "source": [
    "df_player['height'].describe()"
   ]
  },
  {
   "cell_type": "code",
   "execution_count": 28,
   "metadata": {},
   "outputs": [
    {
     "data": {
      "image/png": "[encoded data removed]",
      "text/plain": [
       "<Figure size 864x504 with 1 Axes>"
      ]
     },
     "metadata": {
      "needs_background": "light"
     },
     "output_type": "display_data"
    }
   ],
   "source": [
    "plt.figure(figsize = (12,7))\n",
    "plt.hist(df_player['height'], bins = 15)\n",
    "plt.vlines(x = np.mean(df_player['height']), ymin = 0, ymax = 190, color = 'red')\n",
    "plt.xlabel('Inches')\n",
    "plt.title('Player Heights');"
   ]
  },
  {
   "cell_type": "markdown",
   "metadata": {},
   "source": [
    "# Player Weight\n",
    "\n",
    "[Top Page](#Table-of-Contents)"
   ]
  },
  {
   "cell_type": "code",
   "execution_count": 29,
   "metadata": {},
   "outputs": [
    {
     "data": {
      "text/plain": [
       "count    1303.000000\n",
       "mean      222.537222\n",
       "std        29.476747\n",
       "min       159.000000\n",
       "25%       200.000000\n",
       "50%       216.000000\n",
       "75%       242.000000\n",
       "max       352.000000\n",
       "Name: weight, dtype: float64"
      ]
     },
     "execution_count": 29,
     "metadata": {},
     "output_type": "execute_result"
    }
   ],
   "source": [
    "df_player['weight'].describe()"
   ]
  },
  {
   "cell_type": "code",
   "execution_count": 30,
   "metadata": {},
   "outputs": [
    {
     "data": {
      "image/png": "[encoded data removed]",
      "text/plain": [
       "<Figure size 864x504 with 1 Axes>"
      ]
     },
     "metadata": {
      "needs_background": "light"
     },
     "output_type": "display_data"
    }
   ],
   "source": [
    "plt.figure(figsize = (12,7))\n",
    "plt.hist(df_player['weight'], bins = 15)\n",
    "plt.vlines(x = np.mean(df_player['weight']), ymin = 0, ymax = 275, color = 'red')\n",
    "plt.xlabel('Pounds')\n",
    "plt.title('Player Weight');"
   ]
  },
  {
   "cell_type": "markdown",
   "metadata": {},
   "source": [
    "# Player's Postion \n",
    "\n",
    "[Top Page](#Table-of-Contents)"
   ]
  },
  {
   "cell_type": "code",
   "execution_count": 133,
   "metadata": {},
   "outputs": [
    {
     "data": {
      "image/png": "[encoded data removed]",
      "text/plain": [
       "<Figure size 864x648 with 1 Axes>"
      ]
     },
     "metadata": {
      "needs_background": "light"
     },
     "output_type": "display_data"
    }
   ],
   "source": [
    "position = ['Wide Receiver', 'Corner Backs', 'Runing Backs', 'Tight Ends', 'Outside Line Backers', 'Quarter Backs', 'Free Safetys', 'Strong Safetys', 'Line Backers', 'Inside Liner Backers', 'Defensive Ends', 'Defensive Backs','Middle Line Backers', 'Defesive Tackles', 'Full Backs', 'Punters', 'Long Snappers', 'Safteys', 'Nose Tackles', 'Kickers', 'Hald Backs']\n",
    "\n",
    "fig, ax = plt.subplots(figsize=(12, 9))\n",
    "ax.barh(position[::-1],df_player['position'].value_counts()[::-1], color = 'grey')\n",
    "ax.spines['right'].set_visible(False)\n",
    "ax.spines['top'].set_visible(False)\n",
    "ax.annotate(df_player['position'].value_counts()[0], xy = (229,19.85), color = 'red')\n",
    "ax.annotate(df_player['position'].value_counts()[1], xy = (196,18.85), color = 'red')\n",
    "ax.annotate(df_player['position'].value_counts()[2], xy = (136,17.85), color = 'red')\n",
    "ax.annotate(df_player['position'].value_counts()[3], xy = (129,16.85), color = 'red')\n",
    "ax.annotate(df_player['position'].value_counts()[4], xy = (101,15.85), color = 'red')\n",
    "ax.annotate(df_player['position'].value_counts()[5], xy = (72,14.85), color = 'red')\n",
    "ax.annotate(df_player['position'].value_counts()[6], xy = (66,13.85), color = 'red')\n",
    "ax.annotate(df_player['position'].value_counts()[7], xy = (59,12.85), color = 'red')\n",
    "ax.annotate(df_player['position'].value_counts()[8], xy = (59,11.85), color = 'red')\n",
    "ax.annotate(df_player['position'].value_counts()[9], xy = (57,10.85), color = 'red')\n",
    "ax.annotate(df_player['position'].value_counts()[10], xy = (50,9.85), color = 'red')\n",
    "ax.annotate(df_player['position'].value_counts()[11], xy = (34,8.85), color = 'red')\n",
    "ax.annotate(df_player['position'].value_counts()[12], xy = (30,7.85), color = 'red')\n",
    "ax.annotate(df_player['position'].value_counts()[13], xy = (29,6.85), color = 'red')\n",
    "ax.annotate(df_player['position'].value_counts()[14], xy = (20,5.85), color = 'red')\n",
    "ax.annotate(df_player['position'].value_counts()[15], xy = (14,4.85), color = 'red')\n",
    "ax.annotate(df_player['position'].value_counts()[16], xy = (13,3.85), color = 'red')\n",
    "ax.annotate(df_player['position'].value_counts()[17], xy = (12,2.85), color = 'red')\n",
    "ax.annotate(df_player['position'].value_counts()[18], xy = (6,1.85), color = 'red')\n",
    "ax.annotate(df_player['position'].value_counts()[19], xy = (6,0.85), color = 'red')\n",
    "ax.annotate(df_player['position'].value_counts()[20], xy = (6,0), color = 'red')\n",
    "\n",
    "ax.set_title(\"Player Position\", fontsize=14, fontweight='bold');\n",
    "\n",
    "\n"
   ]
  },
  {
   "cell_type": "markdown",
   "metadata": {},
   "source": [
    "# Player's Age\n",
    "\n",
    "[Top Page](#Table-of-Contents)"
   ]
  },
  {
   "cell_type": "code",
   "execution_count": 134,
   "metadata": {},
   "outputs": [
    {
     "data": {
      "text/plain": [
       "count    1303.000000\n",
       "mean       25.772832\n",
       "std         3.263488\n",
       "min        20.000000\n",
       "25%        23.000000\n",
       "50%        25.000000\n",
       "75%        28.000000\n",
       "max        41.000000\n",
       "Name: age, dtype: float64"
      ]
     },
     "execution_count": 134,
     "metadata": {},
     "output_type": "execute_result"
    }
   ],
   "source": [
    "df_player['age'].describe()"
   ]
  },
  {
   "cell_type": "code",
   "execution_count": 137,
   "metadata": {},
   "outputs": [
    {
     "data": {
      "image/png": "[encoded data removed]",
      "text/plain": [
       "<Figure size 864x504 with 1 Axes>"
      ]
     },
     "metadata": {
      "needs_background": "light"
     },
     "output_type": "display_data"
    }
   ],
   "source": [
    "plt.figure(figsize = (12,7))\n",
    "plt.hist(df_player['age'], bins = 15)\n",
    "plt.vlines(x = np.mean(df_player['age']), ymin = 0, ymax = 375, color = 'red')\n",
    "plt.xlabel('Years', fontsize=11, fontweight='bold')\n",
    "plt.title('Player Age',fontsize=14, fontweight='bold');"
   ]
  },
  {
   "cell_type": "markdown",
   "metadata": {},
   "source": [
    "# Defenisive players\n",
    "\n",
    "[Top Page](#Table-of-Contents)"
   ]
  },
  {
   "cell_type": "markdown",
   "metadata": {},
   "source": [
    "### Corner backs\n",
    "\n",
    "[Top Page](#Table-of-Contents)"
   ]
  },
  {
   "cell_type": "code",
   "execution_count": 138,
   "metadata": {},
   "outputs": [
    {
     "data": {
      "text/html": [
       "<div>\n",
       "<style scoped>\n",
       "    .dataframe tbody tr th:only-of-type {\n",
       "        vertical-align: middle;\n",
       "    }\n",
       "\n",
       "    .dataframe tbody tr th {\n",
       "        vertical-align: top;\n",
       "    }\n",
       "\n",
       "    .dataframe thead th {\n",
       "        text-align: right;\n",
       "    }\n",
       "</style>\n",
       "<table border=\"1\" class=\"dataframe\">\n",
       "  <thead>\n",
       "    <tr style=\"text-align: right;\">\n",
       "      <th></th>\n",
       "      <th>height</th>\n",
       "      <th>weight</th>\n",
       "      <th>age</th>\n",
       "    </tr>\n",
       "  </thead>\n",
       "  <tbody>\n",
       "    <tr>\n",
       "      <th>count</th>\n",
       "      <td>195.000000</td>\n",
       "      <td>195.000000</td>\n",
       "      <td>195.00000</td>\n",
       "    </tr>\n",
       "    <tr>\n",
       "      <th>mean</th>\n",
       "      <td>71.610256</td>\n",
       "      <td>194.358974</td>\n",
       "      <td>25.54359</td>\n",
       "    </tr>\n",
       "    <tr>\n",
       "      <th>std</th>\n",
       "      <td>1.543826</td>\n",
       "      <td>9.112943</td>\n",
       "      <td>3.00376</td>\n",
       "    </tr>\n",
       "    <tr>\n",
       "      <th>min</th>\n",
       "      <td>68.000000</td>\n",
       "      <td>159.000000</td>\n",
       "      <td>21.00000</td>\n",
       "    </tr>\n",
       "    <tr>\n",
       "      <th>25%</th>\n",
       "      <td>71.000000</td>\n",
       "      <td>190.000000</td>\n",
       "      <td>23.00000</td>\n",
       "    </tr>\n",
       "    <tr>\n",
       "      <th>50%</th>\n",
       "      <td>71.000000</td>\n",
       "      <td>193.000000</td>\n",
       "      <td>25.00000</td>\n",
       "    </tr>\n",
       "    <tr>\n",
       "      <th>75%</th>\n",
       "      <td>73.000000</td>\n",
       "      <td>200.000000</td>\n",
       "      <td>27.00000</td>\n",
       "    </tr>\n",
       "    <tr>\n",
       "      <th>max</th>\n",
       "      <td>75.000000</td>\n",
       "      <td>219.000000</td>\n",
       "      <td>35.00000</td>\n",
       "    </tr>\n",
       "  </tbody>\n",
       "</table>\n",
       "</div>"
      ],
      "text/plain": [
       "           height      weight        age\n",
       "count  195.000000  195.000000  195.00000\n",
       "mean    71.610256  194.358974   25.54359\n",
       "std      1.543826    9.112943    3.00376\n",
       "min     68.000000  159.000000   21.00000\n",
       "25%     71.000000  190.000000   23.00000\n",
       "50%     71.000000  193.000000   25.00000\n",
       "75%     73.000000  200.000000   27.00000\n",
       "max     75.000000  219.000000   35.00000"
      ]
     },
     "execution_count": 138,
     "metadata": {},
     "output_type": "execute_result"
    }
   ],
   "source": [
    "df_player[df_player['position'] == 'CB'][['height','weight','age']].describe()"
   ]
  },
  {
   "cell_type": "code",
   "execution_count": 147,
   "metadata": {},
   "outputs": [
    {
     "data": {
      "image/png": "[encoded data removed]",
      "text/plain": [
       "<Figure size 864x504 with 1 Axes>"
      ]
     },
     "metadata": {
      "needs_background": "light"
     },
     "output_type": "display_data"
    }
   ],
   "source": [
    "plt.figure(figsize = (12,7))\n",
    "plt.hist(df_player[df_player['position'] == 'CB']['height'])\n",
    "plt.vlines(x = np.mean(df_player[df_player['position'] == 'CB']['height']), ymin = 0, ymax = 53, color = 'red')\n",
    "plt.xlabel('Height in Inches', fontsize=11, fontweight='bold')\n",
    "plt.title('Corner Back Heights',fontsize=14, fontweight='bold');"
   ]
  },
  {
   "cell_type": "code",
   "execution_count": 150,
   "metadata": {},
   "outputs": [
    {
     "data": {
      "image/png": "[encoded data removed]",
      "text/plain": [
       "<Figure size 864x504 with 1 Axes>"
      ]
     },
     "metadata": {
      "needs_background": "light"
     },
     "output_type": "display_data"
    }
   ],
   "source": [
    "plt.figure(figsize = (12,7))\n",
    "plt.hist(df_player[df_player['position'] == 'CB']['weight'])\n",
    "plt.vlines(x = np.mean(df_player[df_player['position'] == 'CB']['weight']), ymin = 0, ymax = 60, color = 'red')\n",
    "plt.xlabel('Weight in pounds', fontsize=11, fontweight='bold')\n",
    "plt.title('Corner Back Weight',fontsize=14, fontweight='bold');"
   ]
  },
  {
   "cell_type": "code",
   "execution_count": 151,
   "metadata": {},
   "outputs": [
    {
     "data": {
      "image/png": "[encoded data removed]",
      "text/plain": [
       "<Figure size 864x504 with 1 Axes>"
      ]
     },
     "metadata": {
      "needs_background": "light"
     },
     "output_type": "display_data"
    }
   ],
   "source": [
    "plt.figure(figsize = (12,7))\n",
    "plt.hist(df_player[df_player['position'] == 'CB']['age'])\n",
    "plt.vlines(x = np.mean(df_player[df_player['position'] == 'CB']['age']), ymin = 0, ymax = 60, color = 'red')\n",
    "plt.xlabel('Age', fontsize=11, fontweight='bold')\n",
    "plt.title('Corner Back Age',fontsize=14, fontweight='bold');"
   ]
  },
  {
   "cell_type": "markdown",
   "metadata": {},
   "source": [
    "### Outside Line Backer\n",
    "\n",
    "[Top Page](#Table-of-Contents)"
   ]
  },
  {
   "cell_type": "code",
   "execution_count": 152,
   "metadata": {},
   "outputs": [
    {
     "data": {
      "text/html": [
       "<div>\n",
       "<style scoped>\n",
       "    .dataframe tbody tr th:only-of-type {\n",
       "        vertical-align: middle;\n",
       "    }\n",
       "\n",
       "    .dataframe tbody tr th {\n",
       "        vertical-align: top;\n",
       "    }\n",
       "\n",
       "    .dataframe thead th {\n",
       "        text-align: right;\n",
       "    }\n",
       "</style>\n",
       "<table border=\"1\" class=\"dataframe\">\n",
       "  <thead>\n",
       "    <tr style=\"text-align: right;\">\n",
       "      <th></th>\n",
       "      <th>height</th>\n",
       "      <th>weight</th>\n",
       "      <th>age</th>\n",
       "    </tr>\n",
       "  </thead>\n",
       "  <tbody>\n",
       "    <tr>\n",
       "      <th>count</th>\n",
       "      <td>100.000000</td>\n",
       "      <td>100.000000</td>\n",
       "      <td>100.000000</td>\n",
       "    </tr>\n",
       "    <tr>\n",
       "      <th>mean</th>\n",
       "      <td>74.520000</td>\n",
       "      <td>246.240000</td>\n",
       "      <td>26.510000</td>\n",
       "    </tr>\n",
       "    <tr>\n",
       "      <th>std</th>\n",
       "      <td>1.648262</td>\n",
       "      <td>13.801713</td>\n",
       "      <td>2.983101</td>\n",
       "    </tr>\n",
       "    <tr>\n",
       "      <th>min</th>\n",
       "      <td>71.000000</td>\n",
       "      <td>215.000000</td>\n",
       "      <td>20.000000</td>\n",
       "    </tr>\n",
       "    <tr>\n",
       "      <th>25%</th>\n",
       "      <td>73.000000</td>\n",
       "      <td>235.000000</td>\n",
       "      <td>24.000000</td>\n",
       "    </tr>\n",
       "    <tr>\n",
       "      <th>50%</th>\n",
       "      <td>75.000000</td>\n",
       "      <td>245.000000</td>\n",
       "      <td>26.000000</td>\n",
       "    </tr>\n",
       "    <tr>\n",
       "      <th>75%</th>\n",
       "      <td>76.000000</td>\n",
       "      <td>255.000000</td>\n",
       "      <td>29.000000</td>\n",
       "    </tr>\n",
       "    <tr>\n",
       "      <th>max</th>\n",
       "      <td>79.000000</td>\n",
       "      <td>285.000000</td>\n",
       "      <td>35.000000</td>\n",
       "    </tr>\n",
       "  </tbody>\n",
       "</table>\n",
       "</div>"
      ],
      "text/plain": [
       "           height      weight         age\n",
       "count  100.000000  100.000000  100.000000\n",
       "mean    74.520000  246.240000   26.510000\n",
       "std      1.648262   13.801713    2.983101\n",
       "min     71.000000  215.000000   20.000000\n",
       "25%     73.000000  235.000000   24.000000\n",
       "50%     75.000000  245.000000   26.000000\n",
       "75%     76.000000  255.000000   29.000000\n",
       "max     79.000000  285.000000   35.000000"
      ]
     },
     "execution_count": 152,
     "metadata": {},
     "output_type": "execute_result"
    }
   ],
   "source": [
    "df_player[df_player['position'] == 'OLB'][['height','weight','age']].describe()"
   ]
  },
  {
   "cell_type": "code",
   "execution_count": 155,
   "metadata": {},
   "outputs": [
    {
     "data": {
      "image/png": "[encoded data removed]",
      "text/plain": [
       "<Figure size 864x504 with 1 Axes>"
      ]
     },
     "metadata": {
      "needs_background": "light"
     },
     "output_type": "display_data"
    }
   ],
   "source": [
    "plt.figure(figsize = (12,7))\n",
    "plt.hist(df_player[df_player['position'] == 'OLB']['height'])\n",
    "plt.vlines(x = np.mean(df_player[df_player['position'] == 'OLB']['height']), ymin = 0, ymax = 30, color = 'red')\n",
    "plt.xlabel('Height in Inches', fontsize=11, fontweight='bold')\n",
    "plt.title('Outside Line Backer Heights',fontsize=14, fontweight='bold');"
   ]
  },
  {
   "cell_type": "code",
   "execution_count": 158,
   "metadata": {},
   "outputs": [
    {
     "data": {
      "image/png": "[encoded data removed]",
      "text/plain": [
       "<Figure size 864x504 with 1 Axes>"
      ]
     },
     "metadata": {
      "needs_background": "light"
     },
     "output_type": "display_data"
    }
   ],
   "source": [
    "plt.figure(figsize = (12,7))\n",
    "plt.hist(df_player[df_player['position'] == 'OLB']['weight'])\n",
    "plt.vlines(x = np.mean(df_player[df_player['position'] == 'OLB']['weight']), ymin = 0, ymax = 22, color = 'red')\n",
    "plt.xlabel('Weight in Pounds', fontsize=11, fontweight='bold')\n",
    "plt.title('Outside Line Backer Weight',fontsize=14, fontweight='bold');"
   ]
  },
  {
   "cell_type": "code",
   "execution_count": 159,
   "metadata": {},
   "outputs": [
    {
     "data": {
      "image/png": "[encoded data removed]",
      "text/plain": [
       "<Figure size 864x504 with 1 Axes>"
      ]
     },
     "metadata": {
      "needs_background": "light"
     },
     "output_type": "display_data"
    }
   ],
   "source": [
    "plt.figure(figsize = (12,7))\n",
    "plt.hist(df_player[df_player['position'] == 'OLB']['age'])\n",
    "plt.vlines(x = np.mean(df_player[df_player['position'] == 'OLB']['age']), ymin = 0, ymax = 22, color = 'red')\n",
    "plt.xlabel('Age', fontsize=11, fontweight='bold')\n",
    "plt.title('Outside Line Backer Ages',fontsize=14, fontweight='bold');"
   ]
  },
  {
   "cell_type": "markdown",
   "metadata": {},
   "source": [
    "### Free Safety\n",
    "\n",
    "[Top Page](#Table-of-Contents)"
   ]
  },
  {
   "cell_type": "code",
   "execution_count": 160,
   "metadata": {},
   "outputs": [
    {
     "data": {
      "text/html": [
       "<div>\n",
       "<style scoped>\n",
       "    .dataframe tbody tr th:only-of-type {\n",
       "        vertical-align: middle;\n",
       "    }\n",
       "\n",
       "    .dataframe tbody tr th {\n",
       "        vertical-align: top;\n",
       "    }\n",
       "\n",
       "    .dataframe thead th {\n",
       "        text-align: right;\n",
       "    }\n",
       "</style>\n",
       "<table border=\"1\" class=\"dataframe\">\n",
       "  <thead>\n",
       "    <tr style=\"text-align: right;\">\n",
       "      <th></th>\n",
       "      <th>height</th>\n",
       "      <th>weight</th>\n",
       "      <th>age</th>\n",
       "    </tr>\n",
       "  </thead>\n",
       "  <tbody>\n",
       "    <tr>\n",
       "      <th>count</th>\n",
       "      <td>65.000000</td>\n",
       "      <td>65.000000</td>\n",
       "      <td>65.000000</td>\n",
       "    </tr>\n",
       "    <tr>\n",
       "      <th>mean</th>\n",
       "      <td>71.861538</td>\n",
       "      <td>204.476923</td>\n",
       "      <td>26.707692</td>\n",
       "    </tr>\n",
       "    <tr>\n",
       "      <th>std</th>\n",
       "      <td>1.390559</td>\n",
       "      <td>8.710819</td>\n",
       "      <td>3.380658</td>\n",
       "    </tr>\n",
       "    <tr>\n",
       "      <th>min</th>\n",
       "      <td>68.000000</td>\n",
       "      <td>185.000000</td>\n",
       "      <td>21.000000</td>\n",
       "    </tr>\n",
       "    <tr>\n",
       "      <th>25%</th>\n",
       "      <td>71.000000</td>\n",
       "      <td>199.000000</td>\n",
       "      <td>24.000000</td>\n",
       "    </tr>\n",
       "    <tr>\n",
       "      <th>50%</th>\n",
       "      <td>72.000000</td>\n",
       "      <td>205.000000</td>\n",
       "      <td>26.000000</td>\n",
       "    </tr>\n",
       "    <tr>\n",
       "      <th>75%</th>\n",
       "      <td>73.000000</td>\n",
       "      <td>211.000000</td>\n",
       "      <td>29.000000</td>\n",
       "    </tr>\n",
       "    <tr>\n",
       "      <th>max</th>\n",
       "      <td>76.000000</td>\n",
       "      <td>227.000000</td>\n",
       "      <td>37.000000</td>\n",
       "    </tr>\n",
       "  </tbody>\n",
       "</table>\n",
       "</div>"
      ],
      "text/plain": [
       "          height      weight        age\n",
       "count  65.000000   65.000000  65.000000\n",
       "mean   71.861538  204.476923  26.707692\n",
       "std     1.390559    8.710819   3.380658\n",
       "min    68.000000  185.000000  21.000000\n",
       "25%    71.000000  199.000000  24.000000\n",
       "50%    72.000000  205.000000  26.000000\n",
       "75%    73.000000  211.000000  29.000000\n",
       "max    76.000000  227.000000  37.000000"
      ]
     },
     "execution_count": 160,
     "metadata": {},
     "output_type": "execute_result"
    }
   ],
   "source": [
    "df_player[df_player['position'] == 'FS'][['height','weight','age']].describe()"
   ]
  },
  {
   "cell_type": "code",
   "execution_count": 161,
   "metadata": {},
   "outputs": [
    {
     "data": {
      "image/png": "[encoded data removed]",
      "text/plain": [
       "<Figure size 864x504 with 1 Axes>"
      ]
     },
     "metadata": {
      "needs_background": "light"
     },
     "output_type": "display_data"
    }
   ],
   "source": [
    "plt.figure(figsize = (12,7))\n",
    "plt.hist(df_player[df_player['position'] == 'FS']['height'])\n",
    "plt.vlines(x = np.mean(df_player[df_player['position'] == 'FS']['height']), ymin = 0, ymax = 22, color = 'red')\n",
    "plt.xlabel('Height in Inches', fontsize=11, fontweight='bold')\n",
    "plt.title('Free Safety Height',fontsize=14, fontweight='bold');"
   ]
  },
  {
   "cell_type": "code",
   "execution_count": 163,
   "metadata": {},
   "outputs": [
    {
     "data": {
      "image/png": "[encoded data removed]",
      "text/plain": [
       "<Figure size 864x504 with 1 Axes>"
      ]
     },
     "metadata": {
      "needs_background": "light"
     },
     "output_type": "display_data"
    }
   ],
   "source": [
    "plt.figure(figsize = (12,7))\n",
    "plt.hist(df_player[df_player['position'] == 'FS']['weight'])\n",
    "plt.vlines(x = np.mean(df_player[df_player['position'] == 'FS']['weight']), ymin = 0, ymax = 22, color = 'red')\n",
    "plt.xlabel('Weight in pounds', fontsize=11, fontweight='bold')\n",
    "plt.title('Free Safety Weight',fontsize=14, fontweight='bold');"
   ]
  },
  {
   "cell_type": "code",
   "execution_count": 166,
   "metadata": {},
   "outputs": [
    {
     "data": {
      "image/png": "[encoded data removed]",
      "text/plain": [
       "<Figure size 864x504 with 1 Axes>"
      ]
     },
     "metadata": {
      "needs_background": "light"
     },
     "output_type": "display_data"
    }
   ],
   "source": [
    "plt.figure(figsize = (12,7))\n",
    "plt.hist(df_player[df_player['position'] == 'FS']['age'])\n",
    "plt.vlines(x = np.mean(df_player[df_player['position'] == 'FS']['age']), ymin = 0, ymax = 16, color = 'red')\n",
    "plt.xlabel('Age', fontsize=11, fontweight='bold')\n",
    "plt.title('Free Safety Age',fontsize=14, fontweight='bold');"
   ]
  },
  {
   "cell_type": "markdown",
   "metadata": {},
   "source": [
    "### Strong Safety\n",
    "\n",
    "[Top Page](#Table-of-Contents)"
   ]
  },
  {
   "cell_type": "code",
   "execution_count": 165,
   "metadata": {},
   "outputs": [
    {
     "data": {
      "text/html": [
       "<div>\n",
       "<style scoped>\n",
       "    .dataframe tbody tr th:only-of-type {\n",
       "        vertical-align: middle;\n",
       "    }\n",
       "\n",
       "    .dataframe tbody tr th {\n",
       "        vertical-align: top;\n",
       "    }\n",
       "\n",
       "    .dataframe thead th {\n",
       "        text-align: right;\n",
       "    }\n",
       "</style>\n",
       "<table border=\"1\" class=\"dataframe\">\n",
       "  <thead>\n",
       "    <tr style=\"text-align: right;\">\n",
       "      <th></th>\n",
       "      <th>height</th>\n",
       "      <th>weight</th>\n",
       "      <th>age</th>\n",
       "    </tr>\n",
       "  </thead>\n",
       "  <tbody>\n",
       "    <tr>\n",
       "      <th>count</th>\n",
       "      <td>58.000000</td>\n",
       "      <td>58.000000</td>\n",
       "      <td>58.000000</td>\n",
       "    </tr>\n",
       "    <tr>\n",
       "      <th>mean</th>\n",
       "      <td>72.017241</td>\n",
       "      <td>207.172414</td>\n",
       "      <td>26.155172</td>\n",
       "    </tr>\n",
       "    <tr>\n",
       "      <th>std</th>\n",
       "      <td>1.538869</td>\n",
       "      <td>8.115694</td>\n",
       "      <td>2.539524</td>\n",
       "    </tr>\n",
       "    <tr>\n",
       "      <th>min</th>\n",
       "      <td>69.000000</td>\n",
       "      <td>186.000000</td>\n",
       "      <td>21.000000</td>\n",
       "    </tr>\n",
       "    <tr>\n",
       "      <th>25%</th>\n",
       "      <td>71.000000</td>\n",
       "      <td>202.000000</td>\n",
       "      <td>24.000000</td>\n",
       "    </tr>\n",
       "    <tr>\n",
       "      <th>50%</th>\n",
       "      <td>72.000000</td>\n",
       "      <td>208.500000</td>\n",
       "      <td>26.000000</td>\n",
       "    </tr>\n",
       "    <tr>\n",
       "      <th>75%</th>\n",
       "      <td>73.000000</td>\n",
       "      <td>213.750000</td>\n",
       "      <td>28.000000</td>\n",
       "    </tr>\n",
       "    <tr>\n",
       "      <th>max</th>\n",
       "      <td>76.000000</td>\n",
       "      <td>220.000000</td>\n",
       "      <td>31.000000</td>\n",
       "    </tr>\n",
       "  </tbody>\n",
       "</table>\n",
       "</div>"
      ],
      "text/plain": [
       "          height      weight        age\n",
       "count  58.000000   58.000000  58.000000\n",
       "mean   72.017241  207.172414  26.155172\n",
       "std     1.538869    8.115694   2.539524\n",
       "min    69.000000  186.000000  21.000000\n",
       "25%    71.000000  202.000000  24.000000\n",
       "50%    72.000000  208.500000  26.000000\n",
       "75%    73.000000  213.750000  28.000000\n",
       "max    76.000000  220.000000  31.000000"
      ]
     },
     "execution_count": 165,
     "metadata": {},
     "output_type": "execute_result"
    }
   ],
   "source": [
    "df_player[df_player['position'] == 'SS'][['height','weight','age']].describe()"
   ]
  },
  {
   "cell_type": "code",
   "execution_count": 171,
   "metadata": {},
   "outputs": [
    {
     "data": {
      "image/png": "[encoded data removed]",
      "text/plain": [
       "<Figure size 864x504 with 1 Axes>"
      ]
     },
     "metadata": {
      "needs_background": "light"
     },
     "output_type": "display_data"
    }
   ],
   "source": [
    "plt.figure(figsize = (12,7))\n",
    "plt.hist(df_player[df_player['position'] == 'SS']['height'])\n",
    "plt.vlines(x = np.mean(df_player[df_player['position'] == 'SS']['height']), ymin = 0, ymax = 15, color = 'red')\n",
    "plt.xlabel('Height in Inches', fontsize=11, fontweight='bold')\n",
    "plt.title('Strong Safety Height',fontsize=14, fontweight='bold');"
   ]
  },
  {
   "cell_type": "code",
   "execution_count": 169,
   "metadata": {},
   "outputs": [
    {
     "data": {
      "image/png": "[encoded data removed]",
      "text/plain": [
       "<Figure size 864x504 with 1 Axes>"
      ]
     },
     "metadata": {
      "needs_background": "light"
     },
     "output_type": "display_data"
    }
   ],
   "source": [
    "plt.figure(figsize = (12,7))\n",
    "plt.hist(df_player[df_player['position'] == 'SS']['weight'])\n",
    "plt.vlines(x = np.mean(df_player[df_player['position'] == 'SS']['weight']), ymin = 0, ymax = 12, color = 'red')\n",
    "plt.xlabel('Weight in Pounds', fontsize=11, fontweight='bold')\n",
    "plt.title('Strong Safety Weight',fontsize=14, fontweight='bold');"
   ]
  },
  {
   "cell_type": "code",
   "execution_count": 173,
   "metadata": {},
   "outputs": [
    {
     "data": {
      "image/png": "[encoded data removed]",
      "text/plain": [
       "<Figure size 864x504 with 1 Axes>"
      ]
     },
     "metadata": {
      "needs_background": "light"
     },
     "output_type": "display_data"
    }
   ],
   "source": [
    "plt.figure(figsize = (12,7))\n",
    "plt.hist(df_player[df_player['position'] == 'SS']['age'])\n",
    "plt.vlines(x = np.mean(df_player[df_player['position'] == 'SS']['age']), ymin = 0, ymax = 10, color = 'red')\n",
    "plt.xlabel('Age', fontsize=11, fontweight='bold')\n",
    "plt.title('Strong Safety Age',fontsize=14, fontweight='bold');"
   ]
  },
  {
   "cell_type": "markdown",
   "metadata": {},
   "source": [
    "### Line Backer\n",
    "\n",
    "[Top Page](#Table-of-Contents)"
   ]
  },
  {
   "cell_type": "code",
   "execution_count": 174,
   "metadata": {},
   "outputs": [
    {
     "data": {
      "text/html": [
       "<div>\n",
       "<style scoped>\n",
       "    .dataframe tbody tr th:only-of-type {\n",
       "        vertical-align: middle;\n",
       "    }\n",
       "\n",
       "    .dataframe tbody tr th {\n",
       "        vertical-align: top;\n",
       "    }\n",
       "\n",
       "    .dataframe thead th {\n",
       "        text-align: right;\n",
       "    }\n",
       "</style>\n",
       "<table border=\"1\" class=\"dataframe\">\n",
       "  <thead>\n",
       "    <tr style=\"text-align: right;\">\n",
       "      <th></th>\n",
       "      <th>height</th>\n",
       "      <th>weight</th>\n",
       "      <th>age</th>\n",
       "    </tr>\n",
       "  </thead>\n",
       "  <tbody>\n",
       "    <tr>\n",
       "      <th>count</th>\n",
       "      <td>58.000000</td>\n",
       "      <td>58.000000</td>\n",
       "      <td>58.000000</td>\n",
       "    </tr>\n",
       "    <tr>\n",
       "      <th>mean</th>\n",
       "      <td>73.982759</td>\n",
       "      <td>239.775862</td>\n",
       "      <td>23.034483</td>\n",
       "    </tr>\n",
       "    <tr>\n",
       "      <th>std</th>\n",
       "      <td>1.290877</td>\n",
       "      <td>14.155828</td>\n",
       "      <td>1.653975</td>\n",
       "    </tr>\n",
       "    <tr>\n",
       "      <th>min</th>\n",
       "      <td>72.000000</td>\n",
       "      <td>214.000000</td>\n",
       "      <td>20.000000</td>\n",
       "    </tr>\n",
       "    <tr>\n",
       "      <th>25%</th>\n",
       "      <td>73.000000</td>\n",
       "      <td>230.000000</td>\n",
       "      <td>22.000000</td>\n",
       "    </tr>\n",
       "    <tr>\n",
       "      <th>50%</th>\n",
       "      <td>74.000000</td>\n",
       "      <td>237.000000</td>\n",
       "      <td>23.000000</td>\n",
       "    </tr>\n",
       "    <tr>\n",
       "      <th>75%</th>\n",
       "      <td>75.000000</td>\n",
       "      <td>250.000000</td>\n",
       "      <td>24.000000</td>\n",
       "    </tr>\n",
       "    <tr>\n",
       "      <th>max</th>\n",
       "      <td>77.000000</td>\n",
       "      <td>285.000000</td>\n",
       "      <td>30.000000</td>\n",
       "    </tr>\n",
       "  </tbody>\n",
       "</table>\n",
       "</div>"
      ],
      "text/plain": [
       "          height      weight        age\n",
       "count  58.000000   58.000000  58.000000\n",
       "mean   73.982759  239.775862  23.034483\n",
       "std     1.290877   14.155828   1.653975\n",
       "min    72.000000  214.000000  20.000000\n",
       "25%    73.000000  230.000000  22.000000\n",
       "50%    74.000000  237.000000  23.000000\n",
       "75%    75.000000  250.000000  24.000000\n",
       "max    77.000000  285.000000  30.000000"
      ]
     },
     "execution_count": 174,
     "metadata": {},
     "output_type": "execute_result"
    }
   ],
   "source": [
    "df_player[df_player['position'] == 'LB'][['height','weight','age']].describe()"
   ]
  },
  {
   "cell_type": "code",
   "execution_count": 183,
   "metadata": {},
   "outputs": [
    {
     "data": {
      "image/png": "[encoded data removed]",
      "text/plain": [
       "<Figure size 864x504 with 1 Axes>"
      ]
     },
     "metadata": {
      "needs_background": "light"
     },
     "output_type": "display_data"
    }
   ],
   "source": [
    "plt.figure(figsize = (12,7))\n",
    "plt.hist(df_player[df_player['position'] == 'LB']['height'], bins=6)\n",
    "plt.vlines(x = np.mean(df_player[df_player['position'] == 'LB']['height']), ymin = 0, ymax = 19, color = 'red')\n",
    "plt.xlabel('Height in Inches', fontsize=11, fontweight='bold')\n",
    "plt.title('Line Backer Height',fontsize=14, fontweight='bold');"
   ]
  },
  {
   "cell_type": "code",
   "execution_count": 187,
   "metadata": {},
   "outputs": [
    {
     "data": {
      "image/png": "[encoded data removed]",
      "text/plain": [
       "<Figure size 864x504 with 1 Axes>"
      ]
     },
     "metadata": {
      "needs_background": "light"
     },
     "output_type": "display_data"
    }
   ],
   "source": [
    "plt.figure(figsize = (12,7))\n",
    "plt.hist(df_player[df_player['position'] == 'LB']['weight'], bins=8)\n",
    "plt.vlines(x = np.mean(df_player[df_player['position'] == 'LB']['weight']), ymin = 0, ymax = 16, color = 'red')\n",
    "plt.xlabel('Weight in pounds', fontsize=11, fontweight='bold')\n",
    "plt.title('Line Backer Weight',fontsize=14, fontweight='bold');"
   ]
  },
  {
   "cell_type": "code",
   "execution_count": 189,
   "metadata": {},
   "outputs": [
    {
     "data": {
      "image/png": "[encoded data removed]",
      "text/plain": [
       "<Figure size 864x504 with 1 Axes>"
      ]
     },
     "metadata": {
      "needs_background": "light"
     },
     "output_type": "display_data"
    }
   ],
   "source": [
    "plt.figure(figsize = (12,7))\n",
    "plt.hist(df_player[df_player['position'] == 'LB']['age'], bins=8)\n",
    "plt.vlines(x = np.mean(df_player[df_player['position'] == 'LB']['age']), ymin = 0, ymax = 20, color = 'red')\n",
    "plt.xlabel('Age', fontsize=11, fontweight='bold')\n",
    "plt.title('Line Backer Age',fontsize=14, fontweight='bold');"
   ]
  },
  {
   "cell_type": "markdown",
   "metadata": {},
   "source": [
    "### Inside line backer\n",
    "\n",
    "[Top Page](#Table-of-Contents)"
   ]
  },
  {
   "cell_type": "code",
   "execution_count": null,
   "metadata": {},
   "outputs": [],
   "source": [
    "df_player[df_player['position'] == 'ILB'][['height','weight','age']].describe()"
   ]
  },
  {
   "cell_type": "code",
   "execution_count": null,
   "metadata": {},
   "outputs": [],
   "source": [
    "df_player[df_player['position'] == 'ILB'][['height','weight','age']].hist();"
   ]
  },
  {
   "cell_type": "code",
   "execution_count": null,
   "metadata": {},
   "outputs": [],
   "source": [
    "df_player[df_player['position'] == 'ILB'][['height','weight','age']].plot.scatter(x='weight', y='height');"
   ]
  },
  {
   "cell_type": "markdown",
   "metadata": {},
   "source": [
    "### Defensive end\n",
    "\n",
    "[Top Page](#Table-of-Contents)"
   ]
  },
  {
   "cell_type": "code",
   "execution_count": null,
   "metadata": {},
   "outputs": [],
   "source": [
    "df_player[df_player['position'] == 'DE'][['height','weight','age']].describe()"
   ]
  },
  {
   "cell_type": "code",
   "execution_count": null,
   "metadata": {},
   "outputs": [],
   "source": [
    "df_player[df_player['position'] == 'DE'][['height','weight','age']].hist();"
   ]
  },
  {
   "cell_type": "code",
   "execution_count": null,
   "metadata": {},
   "outputs": [],
   "source": [
    "df_player[df_player['position'] == 'DE'][['height','weight','age']].plot.scatter(x='weight', y='height');"
   ]
  },
  {
   "cell_type": "markdown",
   "metadata": {},
   "source": [
    "### Defensive back\n",
    "\n",
    "[Top Page](#Table-of-Contents)"
   ]
  },
  {
   "cell_type": "code",
   "execution_count": null,
   "metadata": {},
   "outputs": [],
   "source": [
    "df_player[df_player['position'] == 'DB'][['height','weight','age']].describe()"
   ]
  },
  {
   "cell_type": "code",
   "execution_count": null,
   "metadata": {},
   "outputs": [],
   "source": [
    "df_player[df_player['position'] == 'DB'][['height','weight','age']].hist();"
   ]
  },
  {
   "cell_type": "code",
   "execution_count": null,
   "metadata": {},
   "outputs": [],
   "source": [
    "df_player[df_player['position'] == 'DB'][['height','weight','age']].plot.scatter(x='weight', y='height');"
   ]
  },
  {
   "cell_type": "markdown",
   "metadata": {},
   "source": [
    "### Middle Line Backer\n",
    "\n",
    "[Top Page](#Table-of-Contents)"
   ]
  },
  {
   "cell_type": "code",
   "execution_count": null,
   "metadata": {},
   "outputs": [],
   "source": [
    "df_player[df_player['position'] == 'MLB'][['height','weight','age']].describe()"
   ]
  },
  {
   "cell_type": "code",
   "execution_count": null,
   "metadata": {},
   "outputs": [],
   "source": [
    "df_player[df_player['position'] == 'MLB'][['height','weight','age']].hist();"
   ]
  },
  {
   "cell_type": "code",
   "execution_count": null,
   "metadata": {},
   "outputs": [],
   "source": [
    "df_player[df_player['position'] == 'CB'][['height','weight','age']].plot.scatter(x='weight', y='height');"
   ]
  },
  {
   "cell_type": "markdown",
   "metadata": {},
   "source": [
    "### Defenive tackle\n",
    "\n",
    "[Top Page](#Table-of-Contents)"
   ]
  },
  {
   "cell_type": "code",
   "execution_count": null,
   "metadata": {},
   "outputs": [],
   "source": [
    "df_player[df_player['position'] == 'DT'][['height','weight','age']].describe()"
   ]
  },
  {
   "cell_type": "code",
   "execution_count": null,
   "metadata": {},
   "outputs": [],
   "source": [
    "df_player[df_player['position'] == 'DT'][['height','weight','age']].hist();"
   ]
  },
  {
   "cell_type": "code",
   "execution_count": null,
   "metadata": {},
   "outputs": [],
   "source": [
    "df_player[df_player['position'] == 'CB'][['height','weight','age']].plot.scatter(x='weight', y='height');"
   ]
  },
  {
   "cell_type": "markdown",
   "metadata": {},
   "source": [
    "### Nose tackle\n",
    "\n",
    "[Top Page](#Table-of-Contents)"
   ]
  },
  {
   "cell_type": "code",
   "execution_count": null,
   "metadata": {},
   "outputs": [],
   "source": [
    "df_player[df_player['position'] == 'NT'][['height','weight','age']].describe()"
   ]
  },
  {
   "cell_type": "code",
   "execution_count": null,
   "metadata": {},
   "outputs": [],
   "source": [
    "df_player[df_player['position'] == 'NT'][['height','weight','age']].hist();"
   ]
  },
  {
   "cell_type": "code",
   "execution_count": null,
   "metadata": {},
   "outputs": [],
   "source": [
    "df_player[df_player['position'] == 'NT'][['height','weight','age']].plot.scatter(x='weight', y='height');"
   ]
  },
  {
   "cell_type": "markdown",
   "metadata": {},
   "source": [
    "# Offensive Players\n",
    "\n",
    "[Top Page](#Table-of-Contents)"
   ]
  },
  {
   "cell_type": "markdown",
   "metadata": {},
   "source": [
    "### Wide Recievers\n",
    "\n",
    "[Top Page](#Table-of-Contents)"
   ]
  },
  {
   "cell_type": "code",
   "execution_count": null,
   "metadata": {},
   "outputs": [],
   "source": [
    "df_player[df_player['position'] == 'WR'][['height','weight','age']].describe()"
   ]
  },
  {
   "cell_type": "code",
   "execution_count": null,
   "metadata": {},
   "outputs": [],
   "source": [
    "df_player[df_player['position'] == 'WR'][['height','weight','age']].hist();"
   ]
  },
  {
   "cell_type": "code",
   "execution_count": null,
   "metadata": {},
   "outputs": [],
   "source": [
    "df_player[df_player['position'] == 'WR'][['height','weight','age']].plot.scatter(x='weight', y='height');"
   ]
  },
  {
   "cell_type": "markdown",
   "metadata": {},
   "source": [
    "### Running backs\n",
    "\n",
    "[Top Page](#Table-of-Contents)"
   ]
  },
  {
   "cell_type": "code",
   "execution_count": null,
   "metadata": {},
   "outputs": [],
   "source": [
    "df_player[df_player['position'] == 'RB'][['height','weight','age']].describe()"
   ]
  },
  {
   "cell_type": "code",
   "execution_count": null,
   "metadata": {},
   "outputs": [],
   "source": [
    "df_player[df_player['position'] == 'RB'][['height','weight','age']].hist();"
   ]
  },
  {
   "cell_type": "code",
   "execution_count": null,
   "metadata": {},
   "outputs": [],
   "source": [
    "df_player[df_player['position'] == 'RB'][['height','weight','age']].plot.scatter(x='weight', y='height');"
   ]
  },
  {
   "cell_type": "markdown",
   "metadata": {},
   "source": [
    "### Tight End\n",
    "\n",
    "[Top Page](#Table-of-Contents)"
   ]
  },
  {
   "cell_type": "code",
   "execution_count": null,
   "metadata": {},
   "outputs": [],
   "source": [
    "df_player[df_player['position'] == 'TE'][['height','weight','age']].describe()"
   ]
  },
  {
   "cell_type": "code",
   "execution_count": null,
   "metadata": {},
   "outputs": [],
   "source": [
    "df_player[df_player['position'] == 'TE'][['height','weight','age']].hist();"
   ]
  },
  {
   "cell_type": "code",
   "execution_count": null,
   "metadata": {},
   "outputs": [],
   "source": [
    "df_player[df_player['position'] == 'TE'][['height','weight','age']].plot.scatter(x='weight', y='height');"
   ]
  },
  {
   "cell_type": "markdown",
   "metadata": {},
   "source": [
    "### Quarter Back\n",
    "\n",
    "[Top Page](#Table-of-Contents)"
   ]
  },
  {
   "cell_type": "code",
   "execution_count": null,
   "metadata": {},
   "outputs": [],
   "source": [
    "df_player[df_player['position'] == 'QB'][['height','weight','age']].describe()"
   ]
  },
  {
   "cell_type": "code",
   "execution_count": null,
   "metadata": {},
   "outputs": [],
   "source": [
    "df_player[df_player['position'] == 'QB'][['height','weight','age']].hist();"
   ]
  },
  {
   "cell_type": "code",
   "execution_count": null,
   "metadata": {},
   "outputs": [],
   "source": [
    "df_player[df_player['position'] == 'QB'][['height','weight','age']].plot.scatter(x='weight', y='height');"
   ]
  },
  {
   "cell_type": "markdown",
   "metadata": {},
   "source": [
    "### Full Back\n",
    "\n",
    "[Top Page](#Table-of-Contents)"
   ]
  },
  {
   "cell_type": "code",
   "execution_count": null,
   "metadata": {},
   "outputs": [],
   "source": [
    "df_player[df_player['position'] == 'FB'][['height','weight','age']].describe()"
   ]
  },
  {
   "cell_type": "code",
   "execution_count": null,
   "metadata": {},
   "outputs": [],
   "source": [
    "df_player[df_player['position'] == 'FB'][['height','weight','age']].hist();"
   ]
  },
  {
   "cell_type": "code",
   "execution_count": null,
   "metadata": {},
   "outputs": [],
   "source": [
    "df_player[df_player['position'] == 'FB'][['height','weight','age']].plot.scatter(x='weight', y='height');"
   ]
  },
  {
   "cell_type": "markdown",
   "metadata": {},
   "source": [
    "### Punter\n",
    "\n",
    "[Top Page](#Table-of-Contents)"
   ]
  },
  {
   "cell_type": "code",
   "execution_count": null,
   "metadata": {},
   "outputs": [],
   "source": [
    "df_player[df_player['position'] == 'P'][['height','weight','age']].describe()"
   ]
  },
  {
   "cell_type": "code",
   "execution_count": null,
   "metadata": {},
   "outputs": [],
   "source": [
    "df_player[df_player['position'] == 'P'][['height','weight','age']].hist();"
   ]
  },
  {
   "cell_type": "code",
   "execution_count": null,
   "metadata": {},
   "outputs": [],
   "source": [
    "df_player[df_player['position'] == 'P'][['height','weight','age']].plot.scatter(x='weight', y='height');"
   ]
  },
  {
   "cell_type": "markdown",
   "metadata": {},
   "source": [
    "### Kicker\n",
    "\n",
    "[Top Page](#Table-of-Contents)"
   ]
  },
  {
   "cell_type": "code",
   "execution_count": null,
   "metadata": {},
   "outputs": [],
   "source": [
    "df_player[df_player['position'] == 'K'][['height','weight','age']].describe()"
   ]
  },
  {
   "cell_type": "code",
   "execution_count": null,
   "metadata": {},
   "outputs": [],
   "source": [
    "df_player[df_player['position'] == 'K'][['height','weight','age']].hist();"
   ]
  },
  {
   "cell_type": "code",
   "execution_count": null,
   "metadata": {},
   "outputs": [],
   "source": [
    "df_player[df_player['position'] == 'K'][['height','weight','age']].plot.scatter(x='weight', y='height');"
   ]
  },
  {
   "cell_type": "markdown",
   "metadata": {},
   "source": [
    "### Half Back\n",
    "\n",
    "[Top Page](#Table-of-Contents)"
   ]
  },
  {
   "cell_type": "code",
   "execution_count": null,
   "metadata": {},
   "outputs": [],
   "source": [
    "df_player[df_player['position'] == 'HB'][['height','weight','age']].describe()"
   ]
  },
  {
   "cell_type": "code",
   "execution_count": null,
   "metadata": {},
   "outputs": [],
   "source": [
    "df_player[df_player['position'] == 'HB'][['height','weight','age']].hist();"
   ]
  },
  {
   "cell_type": "code",
   "execution_count": null,
   "metadata": {},
   "outputs": [],
   "source": [
    "df_player[df_player['position'] == 'HB'][['height','weight','age']].plot.scatter(x='weight', y='height');"
   ]
  },
  {
   "cell_type": "markdown",
   "metadata": {},
   "source": [
    "# Games Data\n",
    "\n",
    "[Top Page](#Table-of-Contents)"
   ]
  },
  {
   "cell_type": "code",
   "execution_count": null,
   "metadata": {},
   "outputs": [],
   "source": [
    "df_games = pd.read_csv('../data/games.csv')"
   ]
  },
  {
   "cell_type": "code",
   "execution_count": null,
   "metadata": {},
   "outputs": [],
   "source": [
    "df_games.shape"
   ]
  },
  {
   "cell_type": "code",
   "execution_count": null,
   "metadata": {},
   "outputs": [],
   "source": [
    "df_games.head()"
   ]
  },
  {
   "cell_type": "code",
   "execution_count": null,
   "metadata": {},
   "outputs": [],
   "source": [
    "df_games.tail()"
   ]
  },
  {
   "cell_type": "code",
   "execution_count": null,
   "metadata": {},
   "outputs": [],
   "source": [
    "#weekly counts of games\n",
    "# Week 1 is missing games\n",
    "df_games['week'].value_counts()"
   ]
  },
  {
   "cell_type": "markdown",
   "metadata": {},
   "source": [
    "### Week 1 \n",
    "\n",
    "[Top Page](#Table-of-Contents)"
   ]
  },
  {
   "cell_type": "code",
   "execution_count": null,
   "metadata": {},
   "outputs": [],
   "source": [
    "df_games[df_games['week'] == 1]"
   ]
  },
  {
   "cell_type": "markdown",
   "metadata": {},
   "source": [
    "### Week 2\n",
    "\n",
    "[Top Page](#Table-of-Contents)"
   ]
  },
  {
   "cell_type": "code",
   "execution_count": null,
   "metadata": {},
   "outputs": [],
   "source": [
    "df_games[df_games['week'] == 2]"
   ]
  },
  {
   "cell_type": "markdown",
   "metadata": {},
   "source": [
    "### Week 3\n",
    "\n",
    "[Top Page](#Table-of-Contents)"
   ]
  },
  {
   "cell_type": "code",
   "execution_count": null,
   "metadata": {},
   "outputs": [],
   "source": [
    "df_games[df_games['week'] == 3]"
   ]
  },
  {
   "cell_type": "markdown",
   "metadata": {},
   "source": [
    "### Week 4\n",
    "\n",
    "[Top Page](#Table-of-Contents)"
   ]
  },
  {
   "cell_type": "code",
   "execution_count": null,
   "metadata": {},
   "outputs": [],
   "source": [
    "df_games[df_games['week'] == 4]"
   ]
  },
  {
   "cell_type": "markdown",
   "metadata": {},
   "source": [
    "### Week 5\n",
    "\n",
    "[Top Page](#Table-of-Contents)"
   ]
  },
  {
   "cell_type": "code",
   "execution_count": null,
   "metadata": {},
   "outputs": [],
   "source": [
    "df_games[df_games['week'] == 5]"
   ]
  },
  {
   "cell_type": "markdown",
   "metadata": {},
   "source": [
    "### Week 6\n",
    "\n",
    "[Top Page](#Table-of-Contents)"
   ]
  },
  {
   "cell_type": "code",
   "execution_count": null,
   "metadata": {},
   "outputs": [],
   "source": [
    "df_games[df_games['week'] == 6]"
   ]
  },
  {
   "cell_type": "markdown",
   "metadata": {},
   "source": [
    "### Week 7\n",
    "\n",
    "[Top Page](#Table-of-Contents)"
   ]
  },
  {
   "cell_type": "code",
   "execution_count": null,
   "metadata": {},
   "outputs": [],
   "source": [
    "df_games[df_games['week'] == 7]"
   ]
  },
  {
   "cell_type": "markdown",
   "metadata": {},
   "source": [
    "### Week 8\n",
    "\n",
    "[Top Page](#Table-of-Contents)"
   ]
  },
  {
   "cell_type": "code",
   "execution_count": null,
   "metadata": {},
   "outputs": [],
   "source": [
    "df_games[df_games['week'] == 8]"
   ]
  },
  {
   "cell_type": "markdown",
   "metadata": {},
   "source": [
    "### Week 9\n",
    "\n",
    "[Top Page](#Table-of-Contents)"
   ]
  },
  {
   "cell_type": "code",
   "execution_count": null,
   "metadata": {},
   "outputs": [],
   "source": [
    "df_games[df_games['week'] == 9]"
   ]
  },
  {
   "cell_type": "markdown",
   "metadata": {},
   "source": [
    "### Week 10\n",
    "\n",
    "[Top Page](#Table-of-Contents)"
   ]
  },
  {
   "cell_type": "code",
   "execution_count": null,
   "metadata": {},
   "outputs": [],
   "source": [
    "df_games[df_games['week'] == 10]"
   ]
  },
  {
   "cell_type": "markdown",
   "metadata": {},
   "source": [
    "### Week 11\n",
    "\n",
    "[Top Page](#Table-of-Contents)"
   ]
  },
  {
   "cell_type": "code",
   "execution_count": null,
   "metadata": {},
   "outputs": [],
   "source": [
    "df_games[df_games['week'] == 11]"
   ]
  },
  {
   "cell_type": "markdown",
   "metadata": {},
   "source": [
    "### Week 12\n",
    "\n",
    "[Top Page](#Table-of-Contents)"
   ]
  },
  {
   "cell_type": "code",
   "execution_count": null,
   "metadata": {},
   "outputs": [],
   "source": [
    "df_games[df_games['week'] == 12]"
   ]
  },
  {
   "cell_type": "markdown",
   "metadata": {},
   "source": [
    "### Week 13\n",
    "\n",
    "[Top Page](#Table-of-Contents)"
   ]
  },
  {
   "cell_type": "code",
   "execution_count": null,
   "metadata": {},
   "outputs": [],
   "source": [
    "df_games[df_games['week'] == 13]"
   ]
  },
  {
   "cell_type": "markdown",
   "metadata": {},
   "source": [
    "### Week 14\n",
    "\n",
    "[Top Page](#Table-of-Contents)"
   ]
  },
  {
   "cell_type": "code",
   "execution_count": null,
   "metadata": {},
   "outputs": [],
   "source": [
    "df_games[df_games['week'] == 14]"
   ]
  },
  {
   "cell_type": "markdown",
   "metadata": {},
   "source": [
    "### Week 15\n",
    "\n",
    "[Top Page](#Table-of-Contents)"
   ]
  },
  {
   "cell_type": "code",
   "execution_count": null,
   "metadata": {},
   "outputs": [],
   "source": [
    "df_games[df_games['week'] == 15]"
   ]
  },
  {
   "cell_type": "markdown",
   "metadata": {},
   "source": [
    "### Week 16\n",
    "\n",
    "[Top Page](#Table-of-Contents)"
   ]
  },
  {
   "cell_type": "code",
   "execution_count": null,
   "metadata": {},
   "outputs": [],
   "source": [
    "df_games[df_games['week'] == 16]"
   ]
  },
  {
   "cell_type": "markdown",
   "metadata": {},
   "source": [
    "### Week 17\n",
    "\n",
    "[Top Page](#Table-of-Contents)"
   ]
  },
  {
   "cell_type": "code",
   "execution_count": null,
   "metadata": {},
   "outputs": [],
   "source": [
    "df_games[df_games['week'] == 17]"
   ]
  },
  {
   "cell_type": "markdown",
   "metadata": {},
   "source": [
    "# Plays Data\n",
    "\n",
    "[Top Page](#Table-of-Contents)"
   ]
  },
  {
   "cell_type": "code",
   "execution_count": null,
   "metadata": {},
   "outputs": [],
   "source": [
    "df_plays = pd.read_csv('../data/plays.csv')"
   ]
  },
  {
   "cell_type": "code",
   "execution_count": null,
   "metadata": {},
   "outputs": [],
   "source": [
    "df_plays.shape"
   ]
  },
  {
   "cell_type": "code",
   "execution_count": null,
   "metadata": {},
   "outputs": [],
   "source": [
    "df_plays.columns"
   ]
  },
  {
   "cell_type": "code",
   "execution_count": null,
   "metadata": {},
   "outputs": [],
   "source": [
    "df_plays.head()"
   ]
  },
  {
   "cell_type": "code",
   "execution_count": null,
   "metadata": {},
   "outputs": [],
   "source": [
    "df_plays['down'].value_counts()"
   ]
  },
  {
   "cell_type": "code",
   "execution_count": null,
   "metadata": {},
   "outputs": [],
   "source": [
    "df_plays['yardsToGo'].value_counts().hist();"
   ]
  },
  {
   "cell_type": "code",
   "execution_count": null,
   "metadata": {},
   "outputs": [],
   "source": [
    "df_plays['playType'].value_counts()"
   ]
  },
  {
   "cell_type": "code",
   "execution_count": null,
   "metadata": {},
   "outputs": [],
   "source": [
    "df_plays['yardlineSide'].value_counts()"
   ]
  },
  {
   "cell_type": "code",
   "execution_count": null,
   "metadata": {},
   "outputs": [],
   "source": [
    "df_plays['yardlineNumber'].value_counts().sort_index()"
   ]
  },
  {
   "cell_type": "code",
   "execution_count": null,
   "metadata": {},
   "outputs": [],
   "source": [
    "df_plays['offenseFormation'].value_counts()"
   ]
  },
  {
   "cell_type": "code",
   "execution_count": null,
   "metadata": {},
   "outputs": [],
   "source": [
    "df_plays['personnelO'].value_counts()"
   ]
  },
  {
   "cell_type": "code",
   "execution_count": null,
   "metadata": {},
   "outputs": [],
   "source": [
    "df_plays['defendersInTheBox'].value_counts()"
   ]
  },
  {
   "cell_type": "code",
   "execution_count": null,
   "metadata": {},
   "outputs": [],
   "source": [
    "df_plays['numberOfPassRushers'].value_counts()"
   ]
  },
  {
   "cell_type": "code",
   "execution_count": null,
   "metadata": {},
   "outputs": [],
   "source": [
    "df_plays['personnelD'].value_counts()"
   ]
  },
  {
   "cell_type": "code",
   "execution_count": null,
   "metadata": {},
   "outputs": [],
   "source": [
    "df_plays['typeDropback'].value_counts()"
   ]
  },
  {
   "cell_type": "code",
   "execution_count": null,
   "metadata": {},
   "outputs": [],
   "source": [
    "df_plays['preSnapVisitorScore'].value_counts().hist();"
   ]
  },
  {
   "cell_type": "code",
   "execution_count": null,
   "metadata": {},
   "outputs": [],
   "source": [
    "df_plays['preSnapHomeScore'].value_counts().hist();"
   ]
  },
  {
   "cell_type": "code",
   "execution_count": null,
   "metadata": {},
   "outputs": [],
   "source": [
    "df_plays['absoluteYardlineNumber'].value_counts().sort_index().hist();"
   ]
  },
  {
   "cell_type": "code",
   "execution_count": null,
   "metadata": {},
   "outputs": [],
   "source": [
    "df_plays['gameClock'].value_counts()"
   ]
  },
  {
   "cell_type": "code",
   "execution_count": null,
   "metadata": {},
   "outputs": [],
   "source": [
    "df_plays['penaltyCodes'].value_counts()"
   ]
  },
  {
   "cell_type": "code",
   "execution_count": null,
   "metadata": {},
   "outputs": [],
   "source": [
    "df_plays['passResult'].value_counts().hist();"
   ]
  },
  {
   "cell_type": "code",
   "execution_count": null,
   "metadata": {},
   "outputs": [],
   "source": [
    "df_plays['offensePlayResult'].value_counts().sort_index().hist(bins=100);"
   ]
  },
  {
   "cell_type": "code",
   "execution_count": null,
   "metadata": {},
   "outputs": [],
   "source": [
    "df_plays['playResult'].value_counts().sort_index().hist(bins=100);"
   ]
  },
  {
   "cell_type": "code",
   "execution_count": null,
   "metadata": {},
   "outputs": [],
   "source": [
    "df_plays['epa'].value_counts()"
   ]
  },
  {
   "cell_type": "code",
   "execution_count": null,
   "metadata": {},
   "outputs": [],
   "source": [
    "df_plays['isDefensivePI'].value_counts()"
   ]
  },
  {
   "cell_type": "markdown",
   "metadata": {},
   "source": [
    "# Tracking Data\n",
    "\n",
    "[Top Page](#Table-of-Contents)"
   ]
  },
  {
   "cell_type": "markdown",
   "metadata": {},
   "source": [
    "# Week 1 Data\n",
    "\n",
    "[Top Page](#Table-of-Contents)"
   ]
  },
  {
   "cell_type": "code",
   "execution_count": null,
   "metadata": {},
   "outputs": [],
   "source": [
    "# Week 1 Data\n",
    "df_week1 = pd.read_csv('../data/week1.csv')"
   ]
  },
  {
   "cell_type": "code",
   "execution_count": null,
   "metadata": {},
   "outputs": [],
   "source": [
    "df_week1[(df_week1['frameId'] == 1) & (df_week1['gameId'] == 2018090600)]"
   ]
  },
  {
   "cell_type": "markdown",
   "metadata": {},
   "source": [
    "# Week 2 Data\n",
    "\n",
    "[Top Page](#Table-of-Contents)"
   ]
  },
  {
   "cell_type": "code",
   "execution_count": null,
   "metadata": {},
   "outputs": [],
   "source": [
    "# Week 2 Data\n",
    "df_week2 = pd.read_csv('../data/week2.csv')"
   ]
  },
  {
   "cell_type": "markdown",
   "metadata": {},
   "source": [
    "# Week 3 Data \n",
    "\n",
    "[Top Page](#Table-of-Contents)"
   ]
  },
  {
   "cell_type": "code",
   "execution_count": null,
   "metadata": {},
   "outputs": [],
   "source": [
    "# Week 3 data\n",
    "df_week3 = pd.read_csv('../data/week3.csv')"
   ]
  },
  {
   "cell_type": "markdown",
   "metadata": {},
   "source": [
    "# Week 4 Data\n",
    "\n",
    "[Top Page](#Table-of-Contents)"
   ]
  },
  {
   "cell_type": "code",
   "execution_count": null,
   "metadata": {},
   "outputs": [],
   "source": [
    "#Week 4 Data\n",
    "df_week4 = pd.read_csv('../data/week4.csv')"
   ]
  },
  {
   "cell_type": "markdown",
   "metadata": {},
   "source": [
    "# Week 5 Data\n",
    "\n",
    "[Top Page](#Table-of-Contents)"
   ]
  },
  {
   "cell_type": "code",
   "execution_count": null,
   "metadata": {},
   "outputs": [],
   "source": [
    "#Week 5 Data\n",
    "df_week5 = pd.read_csv('../data/week5.csv')"
   ]
  },
  {
   "cell_type": "markdown",
   "metadata": {},
   "source": [
    "# Week 6 Data\n",
    "\n",
    "[Top Page](#Table-of-Contents)"
   ]
  },
  {
   "cell_type": "code",
   "execution_count": null,
   "metadata": {},
   "outputs": [],
   "source": [
    "#Week 6 Data\n",
    "df_week6 = pd.read_csv('../data/week6.csv')"
   ]
  },
  {
   "cell_type": "markdown",
   "metadata": {},
   "source": [
    "# Week 7 Data\n",
    "\n",
    "[Top Page](#Table-of-Contents)"
   ]
  },
  {
   "cell_type": "code",
   "execution_count": null,
   "metadata": {},
   "outputs": [],
   "source": [
    "#Week 7 Data\n",
    "df_week7 = pd.read_csv('../data/week7.csv')"
   ]
  },
  {
   "cell_type": "markdown",
   "metadata": {},
   "source": [
    "# Week 8 Data\n",
    "\n",
    "[Top Page](#Table-of-Contents)"
   ]
  },
  {
   "cell_type": "code",
   "execution_count": null,
   "metadata": {},
   "outputs": [],
   "source": [
    "#Week 8 Data\n",
    "df_week8 = pd.read_csv('../data/week8.csv')"
   ]
  },
  {
   "cell_type": "markdown",
   "metadata": {},
   "source": [
    "# Week 9 Data\n",
    "\n",
    "[Top Page](#Table-of-Contents)"
   ]
  },
  {
   "cell_type": "code",
   "execution_count": null,
   "metadata": {},
   "outputs": [],
   "source": [
    "#Week 9 Data\n",
    "df_week9 = pd.read_csv('../data/week9.csv')"
   ]
  },
  {
   "cell_type": "markdown",
   "metadata": {},
   "source": [
    "# Week 10 Data\n",
    "\n",
    "[Top Page](#Table-of-Contents)"
   ]
  },
  {
   "cell_type": "code",
   "execution_count": null,
   "metadata": {},
   "outputs": [],
   "source": [
    "#Week 10 Data\n",
    "df_week10 = pd.read_csv('../data/week10.csv')"
   ]
  },
  {
   "cell_type": "markdown",
   "metadata": {},
   "source": [
    "# Week 11 Data\n",
    "\n",
    "[Top Page](#Table-of-Contents)"
   ]
  },
  {
   "cell_type": "code",
   "execution_count": null,
   "metadata": {},
   "outputs": [],
   "source": [
    "#Week 11 Data\n",
    "df_week11 = pd.read_csv('../data/week11.csv')"
   ]
  },
  {
   "cell_type": "markdown",
   "metadata": {},
   "source": [
    "# Week 12 Data\n",
    "\n",
    "[Top Page](#Table-of-Contents)"
   ]
  },
  {
   "cell_type": "code",
   "execution_count": null,
   "metadata": {},
   "outputs": [],
   "source": [
    "#Week 12 Data\n",
    "df_week12 = pd.read_csv('../data/week12.csv')"
   ]
  },
  {
   "cell_type": "markdown",
   "metadata": {},
   "source": [
    "# Week 13 Data\n",
    "\n",
    "[Top Page](#Table-of-Contents)"
   ]
  },
  {
   "cell_type": "code",
   "execution_count": null,
   "metadata": {},
   "outputs": [],
   "source": [
    "#Week 13 Data\n",
    "df_week13 = pd.read_csv('../data/week13.csv')"
   ]
  },
  {
   "cell_type": "markdown",
   "metadata": {},
   "source": [
    "# Week 14 Data\n",
    "\n",
    "[Top Page](#Table-of-Contents)"
   ]
  },
  {
   "cell_type": "code",
   "execution_count": null,
   "metadata": {},
   "outputs": [],
   "source": [
    "#Week 14 Data\n",
    "df_week14 = pd.read_csv('../data/week14.csv')"
   ]
  },
  {
   "cell_type": "markdown",
   "metadata": {},
   "source": [
    "# Week 15 Data\n",
    "\n",
    "[Top Page](#Table-of-Contents)"
   ]
  },
  {
   "cell_type": "code",
   "execution_count": null,
   "metadata": {},
   "outputs": [],
   "source": [
    "#Week 15 Data\n",
    "df_week15 = pd.read_csv('../data/week15.csv')"
   ]
  },
  {
   "cell_type": "markdown",
   "metadata": {},
   "source": [
    "# Week 16 Data\n",
    "\n",
    "[Top Page](#Table-of-Contents)"
   ]
  },
  {
   "cell_type": "code",
   "execution_count": null,
   "metadata": {},
   "outputs": [],
   "source": [
    "#Week 16 Data\n",
    "df_week16 = pd.read_csv('../data/week16.csv')"
   ]
  },
  {
   "cell_type": "markdown",
   "metadata": {},
   "source": [
    "# Week 17 Data\n",
    "\n",
    "[Top Page](#Table-of-Contents)"
   ]
  },
  {
   "cell_type": "code",
   "execution_count": null,
   "metadata": {},
   "outputs": [],
   "source": [
    "#Week 17 Data\n",
    "df_week17 = pd.read_csv('../data/week17.csv')"
   ]
  }
 ],
 "metadata": {
  "kernelspec": {
   "display_name": "Python 3",
   "language": "python",
   "name": "python3"
  },
  "language_info": {
   "codemirror_mode": {
    "name": "ipython",
    "version": 3
   },
   "file_extension": ".py",
   "mimetype": "text/x-python",
   "name": "python",
   "nbconvert_exporter": "python",
   "pygments_lexer": "ipython3",
   "version": "3.7.6"
  }
 },
 "nbformat": 4,
 "nbformat_minor": 4
}
